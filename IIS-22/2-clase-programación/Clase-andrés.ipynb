{
  "metadata": {
    "language_info": {
      "codemirror_mode": {
        "name": "python",
        "version": 3
      },
      "file_extension": ".py",
      "mimetype": "text/x-python",
      "name": "python",
      "nbconvert_exporter": "python",
      "pygments_lexer": "ipython3",
      "version": "3.8"
    },
    "kernelspec": {
      "name": "python",
      "display_name": "Python (Pyodide)",
      "language": "python"
    }
  },
  "nbformat_minor": 4,
  "nbformat": 4,
  "cells": [
    {
      "cell_type": "markdown",
      "source": "## Cuaderno de Prueba para Ejercicios de Práctica Computacional",
      "metadata": {}
    },
    {
      "cell_type": "markdown",
      "source": "### Variables",
      "metadata": {}
    },
    {
      "cell_type": "code",
      "source": "#Ejemplo Variables\nf=34\ng=5.678\nY='Hola mi gente'\nD=False",
      "metadata": {
        "trusted": true
      },
      "execution_count": 2,
      "outputs": []
    },
    {
      "cell_type": "code",
      "source": "#Obtener el tipo de cada Variable \ntype(D)",
      "metadata": {
        "trusted": true
      },
      "execution_count": 3,
      "outputs": [
        {
          "execution_count": 3,
          "output_type": "execute_result",
          "data": {
            "text/plain": "bool"
          },
          "metadata": {}
        }
      ]
    },
    {
      "cell_type": "markdown",
      "source": "### Funciones",
      "metadata": {}
    },
    {
      "cell_type": "code",
      "source": "#Ejemplo de listas\nT=100\nB=6\n\ndef Suma(a,b):\n    return (a+b)\n\ndef Resta(a,b):\n    return (a-b)\n\nprint(Resta(T,B))",
      "metadata": {
        "trusted": true
      },
      "execution_count": 4,
      "outputs": [
        {
          "name": "stdout",
          "text": "94\n",
          "output_type": "stream"
        }
      ]
    },
    {
      "cell_type": "code",
      "source": "#Realizar la función multiplicación y división \ndef Div(a,b):\n    return (100//6)\nprint(Div(T,B))",
      "metadata": {
        "trusted": true
      },
      "execution_count": 5,
      "outputs": [
        {
          "name": "stdout",
          "text": "16\n",
          "output_type": "stream"
        }
      ]
    },
    {
      "cell_type": "markdown",
      "source": "### Condicionales",
      "metadata": {}
    },
    {
      "cell_type": "code",
      "source": "#Ejemplo de condicionales \nVar1=4\n\nif Var1==6:\n    print('Soy un programador')\n\nelif Var1==4:\n    print('Soy un psicologo')\n\nelse:\n    print('Soy un nini')\n",
      "metadata": {
        "trusted": true
      },
      "execution_count": 6,
      "outputs": [
        {
          "name": "stdout",
          "text": "Soy un psicologo\n",
          "output_type": "stream"
        }
      ]
    },
    {
      "cell_type": "code",
      "source": "# Realizar la lógica condicional para que se imprima 'Hola mundo' cuando Var2==3 y 'Adiós mundo' cuando sea cualquier otro valor\nVar2=21/7\n\nif Var2==3:\n    print('Hola mundo')\nelse:\n    print('Adiós mundo')",
      "metadata": {
        "trusted": true
      },
      "execution_count": 7,
      "outputs": [
        {
          "name": "stdout",
          "text": "Hola mundo\n",
          "output_type": "stream"
        }
      ]
    },
    {
      "cell_type": "markdown",
      "source": "### Listas y Matrices",
      "metadata": {}
    },
    {
      "cell_type": "code",
      "source": "#Ejemplo de listas\nLista_1= [1,4,6,8,10]\nLista_1[4]\n",
      "metadata": {
        "trusted": true
      },
      "execution_count": 8,
      "outputs": [
        {
          "execution_count": 8,
          "output_type": "execute_result",
          "data": {
            "text/plain": "10"
          },
          "metadata": {}
        }
      ]
    },
    {
      "cell_type": "code",
      "source": "#Ejemplo de Matrices\nMatriz_1= [[0,4],[0,6],[0,7],[0,8]]\nMatriz_1[3][1]",
      "metadata": {
        "trusted": true
      },
      "execution_count": 9,
      "outputs": [
        {
          "execution_count": 9,
          "output_type": "execute_result",
          "data": {
            "text/plain": "8"
          },
          "metadata": {}
        }
      ]
    },
    {
      "cell_type": "code",
      "source": "#Encuentre el elemento ubicado en la tercera fila segunda columna para la Matriz 2\nMatriz_2= [[0,'Hola'],['TecSpace',6],[0,'Computacional'],[0,8]]\nMatriz_2[2][1]",
      "metadata": {
        "trusted": true
      },
      "execution_count": 10,
      "outputs": [
        {
          "execution_count": 10,
          "output_type": "execute_result",
          "data": {
            "text/plain": "'Computacional'"
          },
          "metadata": {}
        }
      ]
    },
    {
      "cell_type": "markdown",
      "source": "### Ciclos Infinitos",
      "metadata": {}
    },
    {
      "cell_type": "code",
      "source": "#Ejemplo for matrices\nMatriz_1= [[0,4],[0,6],[0,7],[0,8]]\nfor i in Matriz_1:\n    print(i[1])  \n#Ejemplo for listas\nLista_1= [1,4,6,8]\nfor i in Lista_1:\n    if i==8:\n        print (i)",
      "metadata": {
        "trusted": true
      },
      "execution_count": 53,
      "outputs": [
        {
          "name": "stdout",
          "text": "4\n6\n7\n8\n",
          "output_type": "stream"
        }
      ]
    },
    {
      "cell_type": "code",
      "source": "#Ejemplo while listas\ne=0\nLista_1= [1,4,6,8]\nwhile len(Lista_1)>e:\n    print (Lista_1[e])\n    e+=1\nfor i in Dias:\n    print(i)",
      "metadata": {
        "trusted": true
      },
      "execution_count": 54,
      "outputs": [
        {
          "name": "stdout",
          "text": "1\n4\n6\n8\n",
          "output_type": "stream"
        }
      ]
    },
    {
      "cell_type": "code",
      "source": "#Mediante for y while realice un cliclo infinito que omprima todos los días de la semana\nDias=['Lunes','Martes','Miércoles','Jueves','Viernes','Sábado','Domingo']\nf=0\nwhile len(Dias)>f:\n    print(Dias[f])\n    f+=1",
      "metadata": {
        "trusted": true
      },
      "execution_count": 19,
      "outputs": [
        {
          "name": "stdout",
          "text": "Lunes\nMartes\nMiércoles\nJueves\nViernes\nSábado\nDomingo\n",
          "output_type": "stream"
        }
      ]
    },
    {
      "cell_type": "code",
      "source": "#Ejemplo for matrices\nMatriz_1= [[0,4],[0,6],[0,7],[0,8]]\nfor i in Matriz_1:\n    if i[1]==6:\n        print('Hola')  \n",
      "metadata": {
        "trusted": true
      },
      "execution_count": 58,
      "outputs": [
        {
          "name": "stdout",
          "text": "Hola\n",
          "output_type": "stream"
        }
      ]
    },
    {
      "cell_type": "code",
      "source": "",
      "metadata": {},
      "execution_count": null,
      "outputs": []
    }
  ]
}